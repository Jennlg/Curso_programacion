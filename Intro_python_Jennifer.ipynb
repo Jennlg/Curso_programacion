{
  "cells": [
    {
      "cell_type": "markdown",
      "metadata": {
        "id": "8uCijfvq3Bje"
      },
      "source": [
        "<a href=\"https://colab.research.google.com/github/mcd-unison/material-programacion/blob/main/intro-python.ipynb\" target=\"_parent\"><img src=\"https://colab.research.google.com/assets/colab-badge.svg\" alt=\"Open In Colab\"/></a>"
      ]
    },
    {
      "cell_type": "markdown",
      "metadata": {
        "id": "MlykuSyt3Bji"
      },
      "source": [
        "<center>\n",
        "<p><img src=\"https://mcd.unison.mx/wp-content/themes/awaken/img/logo_mcd.png\" width=\"100\">\n",
        "</p>\n",
        "\n",
        "\n",
        "\n",
        "# Curso Propedéutico en *Programación*\n",
        "\n",
        "## Introducción a `python` resolviendo preguntas\n",
        "\n",
        "\n",
        "**Julio Waissman Vilanova**\n",
        "\n"
      ]
    },
    {
      "cell_type": "markdown",
      "metadata": {
        "id": "l0u8vhmB3Bjj"
      },
      "source": [
        "### Tipos\n",
        "\n",
        "¿Cuales son los tipos de datos básicos? Revisa los tipos siguientes:\n",
        "\n",
        "1. Tipos numéricos `int`, `float`, `complex`\n",
        "2. Cadenas de caracteres\n",
        "3. Tuplas\n",
        "4. Listas\n",
        "5. Diccionarios\n",
        "6. Conjuntos\n",
        "\n",
        "Da ejemplo de sobrecarga de operadores (en particular `+` y `*`)\n",
        "\n"
      ]
    },
    {
      "cell_type": "code",
      "execution_count": null,
      "metadata": {
        "id": "FtFgliwZ3Bjj",
        "colab": {
          "base_uri": "https://localhost:8080/"
        },
        "outputId": "21e90913-492f-4b6e-8173-0a15310d2669"
      },
      "outputs": [
        {
          "output_type": "stream",
          "name": "stdout",
          "text": [
            "HolaAdiós\n",
            "9.141592654\n",
            "HolaHolaHola\n",
            "18\n"
          ]
        }
      ],
      "source": [
        "# SOBRECARGA DE OPERADORES\n",
        "a = \"Hola\"\n",
        "b = 'Adiós'\n",
        "c = 6\n",
        "d= 3.141592654\n",
        "print (a + b)\n",
        "print (c + d)\n",
        "print (a * 3)\n",
        "print (c * 3)"
      ]
    },
    {
      "cell_type": "markdown",
      "metadata": {
        "id": "-0rdRsdR3Bjk"
      },
      "source": [
        "¿Que significa que unos tipos sean *mutables* y otros *inmutables*?\n",
        "\n",
        "Realiza un pequeño programa donde quede claro lo que significa que un tipo de datos sea mutable, e ilustra el uso del método `copy.deepcopy()`."
      ]
    },
    {
      "cell_type": "code",
      "execution_count": null,
      "metadata": {
        "id": "8IEhcF0E3Bjk",
        "colab": {
          "base_uri": "https://localhost:8080/"
        },
        "outputId": "3e54dc36-c107-40cb-e96e-a5c206ad0275"
      },
      "outputs": [
        {
          "output_type": "stream",
          "name": "stdout",
          "text": [
            "[2, 3.14, 'Adiós', [2, 5, 8], 5]\n"
          ]
        }
      ],
      "source": [
        "# Ejemplo de datos mutables\n",
        "l = [2,3.14, b, [2,5,8]]\n",
        "lista = l\n",
        "l.append(5) #Agrega el elemento 5 a la lista\n",
        "print(lista)"
      ]
    },
    {
      "cell_type": "code",
      "source": [
        "# Uso del método copy.deepcopy()\n",
        "import copy\n",
        "l2 = copy.deepcopy(l)\n",
        "l2.append(6)\n",
        "print(f'La lista original es: {l}\\n')\n",
        "print(f'La lista original usando copy.deepcopy es:{l2}')"
      ],
      "metadata": {
        "colab": {
          "base_uri": "https://localhost:8080/"
        },
        "id": "_LPEhPE76llO",
        "outputId": "be4b51e9-c3d6-4899-8b1e-5c4c2b69678c"
      },
      "execution_count": null,
      "outputs": [
        {
          "output_type": "stream",
          "name": "stdout",
          "text": [
            "La lista original es: [2, 3.14, 'Adiós', [2, 5, 8], 5]\n",
            "\n",
            "La lista original usando copy.deepcopy es:[2, 3.14, 'Adiós', [2, 5, 8], 5, 6]\n"
          ]
        }
      ]
    },
    {
      "cell_type": "markdown",
      "metadata": {
        "id": "nf2z3XZd3Bjk"
      },
      "source": [
        "### *Comprehension* de listas, conjuntos y diccionarios\n",
        "\n",
        "Escribe, en una sola linea, una expresión que genere una lista con todos los números enteros que se encuentran entre $1$ y $n$\n",
        "que sean divisibles por $3$ y $7$ y que el dígito menos significativo del número sea $6$."
      ]
    },
    {
      "cell_type": "code",
      "execution_count": null,
      "metadata": {
        "id": "Lh7-W_eQ3Bjl",
        "colab": {
          "base_uri": "https://localhost:8080/"
        },
        "outputId": "ce890c2e-7605-428c-dcae-44f2116cb5de"
      },
      "outputs": [
        {
          "output_type": "stream",
          "name": "stdout",
          "text": [
            "dict_keys([126, 336, 546, 756, 966, 1176, 1386, 1596, 1806, 2016, 2226, 2436, 2646, 2856, 3066, 3276, 3486, 3696, 3906, 4116, 4326, 4536, 4746, 4956, 5166, 5376, 5586, 5796, 6006, 6216, 6426, 6636, 6846, 7056, 7266, 7476, 7686, 7896, 8106, 8316, 8526, 8736, 8946, 9156, 9366, 9576, 9786, 9996])\n"
          ]
        }
      ],
      "source": [
        "n = 10_000\n",
        "\n",
        "# Escribe aqui el *one linner*\n",
        "\n",
        "lista = {x:\n",
        "x for x in range(1, n+1)\n",
        "if x % 3 == 0 and x % 7 == 0 and x % 10 == 6\n",
        "}\n",
        "print(lista.keys())"
      ]
    },
    {
      "cell_type": "markdown",
      "metadata": {
        "id": "sSXI6aEU3Bjm"
      },
      "source": [
        "### Funciones\n",
        "\n",
        "Escribe una función que:\n",
        "\n",
        "1. reciba una lista de elementos (letras, números, lo que sea),\n",
        "2. cuente la ocurrencia de cada elemento en la lista,\n",
        "3. devuelva las ocurrencias en forma de diccionario,\n",
        "4. si imprime es True, imprima un histograma de ocurrencias, por ejemplo:\n",
        "\n",
        "```python\n",
        "\n",
        "lista = [1,'a',1, 13, 'hola', 'a', 1, 1, 'a', 1]\n",
        "\n",
        "d = funcion_ejemplo(lista, imprime = True)\n",
        "\n",
        "1    \t\t***** \t(5 -> 50%)\n",
        "'a'  \t\t***   \t(3 -> 30%)\n",
        "13\t\t*\t(1 -> 10%)\n",
        "'hola'\t\t*\t(1 -> 10%)\n",
        "\n",
        "```"
      ]
    },
    {
      "cell_type": "code",
      "execution_count": null,
      "metadata": {
        "id": "4YejVCNc3Bjm"
      },
      "outputs": [],
      "source": [
        "# Escribe la función aquí\n",
        "\n",
        "def funcion_ejemplo(listas, imprime=False):\n",
        "  h = {x : listas.count(x) for x in set(lista)}\n",
        "  if imprime==True:\n",
        "    for key, val in h.items():\n",
        "      print(f\"{key}\\t\\t{val * '*'}\\t\\t({val} --> {val / len(lista): .2%})\")\n",
        "  return h"
      ]
    },
    {
      "cell_type": "code",
      "execution_count": null,
      "metadata": {
        "id": "4YmkiGRm3Bjn",
        "colab": {
          "base_uri": "https://localhost:8080/"
        },
        "outputId": "6560ba01-8824-4750-ec1b-2fdf99614444"
      },
      "outputs": [
        {
          "output_type": "stream",
          "name": "stdout",
          "text": [
            "1\t\t*****\t\t(5 -->  50.00%)\n",
            "13\t\t*\t\t(1 -->  10.00%)\n",
            "a\t\t***\t\t(3 -->  30.00%)\n",
            "hola\t\t*\t\t(1 -->  10.00%)\n",
            "{1: 5, 13: 1, 'a': 3, 'hola': 1}\n"
          ]
        }
      ],
      "source": [
        "# Realiza pruebas aquí\n",
        "lista = [1,'a',1, 13, 'hola', 'a', 1, 1, 'a', 1]\n",
        "d = funcion_ejemplo(lista, imprime = True)\n",
        "print(d)"
      ]
    },
    {
      "cell_type": "markdown",
      "metadata": {
        "id": "NpA1zTRD3Bjn"
      },
      "source": [
        "Escribe una función que modifique un diccionario y regrese el diccionario modificado y una copia del original, donde cada entrada\n",
        "del diccionario sea una lista de valores. Ten en cuenta que si una entrada del diccionario es de tipo mutable, al modificarlo en la\n",
        "copia se modifica el original. Utiliza el modulo `copy` para evitar este problema. Ejemplo de la función:\n",
        "\n",
        "```python\n",
        "dic1 = {'Pepe':[12, 'enero', 1980], 'Carolina':[15,'mayo',1975],'Paco':[10,'nov',1970]}\n",
        "dic2 = fundicos(dic1, 'Pepe', 1, 'febrero')\n",
        "\n",
        "print(dic1)\n",
        "{'Pepe':[12, 'enero', 1980], 'Carolina':[15,'mayo',1975],'Paco':[10,'nov',1970]}\n",
        "\n",
        "print(dic2)\n",
        "{'Pepe':[12, 'febrero', 1980], 'Carolina':[15,'mayo',1975],'Paco':[10,'nov',1970]}\n",
        "```"
      ]
    },
    {
      "cell_type": "code",
      "execution_count": null,
      "metadata": {
        "id": "_kbH5tbI3Bjn"
      },
      "outputs": [],
      "source": [
        "import copy\n",
        "# Escribe la función aquí\n",
        "def fundicos(diccionario, llave, valor1, valor2):\n",
        "  copy_dic = copy.deepcopy(diccionario)\n",
        "  copy_dic[llave][0] = valor1\n",
        "  copy_dic[llave][1] = valor2\n",
        "  return copy_dic"
      ]
    },
    {
      "cell_type": "code",
      "execution_count": null,
      "metadata": {
        "id": "_DEe9eUT3Bjo",
        "colab": {
          "base_uri": "https://localhost:8080/"
        },
        "outputId": "30af7a7d-1f28-41a7-a848-2bfe1cc1e9ae"
      },
      "outputs": [
        {
          "output_type": "stream",
          "name": "stdout",
          "text": [
            "{'Pepe': [12, 'enero', 1980], 'Carolina': [15, 'mayo', 1975], 'Paco': [10, 'nov', 1970]}\n",
            "{'Pepe': [1, 'febrero', 1980], 'Carolina': [15, 'mayo', 1975], 'Paco': [10, 'nov', 1970]}\n"
          ]
        }
      ],
      "source": [
        "# Realiza pruebas de fundicos aquí\n",
        "dic1 = {'Pepe':[12, 'enero', 1980], 'Carolina':[15,'mayo',1975],'Paco':[10,'nov',1970]}\n",
        "dic2 = fundicos(dic1,'Pepe', 1, 'febrero')\n",
        "\n",
        "print(dic1)\n",
        "print(dic2)"
      ]
    },
    {
      "cell_type": "markdown",
      "metadata": {
        "id": "-8QcnbFh3Bjo"
      },
      "source": [
        "### Generadores\n",
        "\n",
        "Escribe un generador que reciba una lista y genere todas las permutaciones que se puedan hacer con los elementos de la lista"
      ]
    },
    {
      "cell_type": "code",
      "execution_count": null,
      "metadata": {
        "id": "roZtb4EF3Bjo"
      },
      "outputs": [],
      "source": [
        "# Escribe aqui fun1\n",
        "\n",
        "def permutaciones(lista):\n",
        "    \"\"\"\n",
        "    Permutaciones de los elementos de una lista.\n",
        "\n",
        "    Devuelve un generador con todas las permutaciones posibles de los elementos de la lista de entrada\n",
        "    \"\"\"\n",
        "    #TODO: Implementar la función"
      ]
    },
    {
      "cell_type": "code",
      "execution_count": null,
      "metadata": {
        "id": "0LJsKtza3Bjo"
      },
      "outputs": [],
      "source": [
        "# Realiza pruebas de fun2 aquí\n",
        "for p in permutaciones(['a', 'b', 'c', 'd']):\n",
        "    print(p)"
      ]
    },
    {
      "cell_type": "markdown",
      "metadata": {
        "id": "tR7mbYi-3Bjo"
      },
      "source": [
        "Ahora escribe una funcipn que reciba 4 digitos del 0 al 9, y devuelva una lista con todas las horas váidas que se puedan hacer con estos dígitos en forma de lista de strings con la forma `\"HH:MM\"`."
      ]
    },
    {
      "cell_type": "code",
      "execution_count": null,
      "metadata": {
        "id": "fXVvJD8L3Bjo"
      },
      "outputs": [],
      "source": [
        "def horas_validas(lista):\n",
        "    \"\"\"\n",
        "    Recibe una lista de 4 dígitos y devuelve una lista con todas las horas válidas que se pueden hacer con estos dígitos en forma de lista de strings con la forma \"HH:MM\".\n",
        "\n",
        "    Args:\n",
        "    lista: Una lista de 4 dígitos del 0 al 9.\n",
        "\n",
        "    Returns:\n",
        "    Una lista de strings con las horas válidas en formato \"HH:MM\".\n",
        "    \"\"\"\n",
        "    horas = []\n",
        "\n",
        "    for h1 in lista:\n",
        "        for h2 in lista:\n",
        "            h = h1 * 10 + h2\n",
        "            if h < 24:\n",
        "                for m1 in lista:\n",
        "                    for m2 in lista:\n",
        "                        m = m1 * 10 + m2\n",
        "                        if m < 60:\n",
        "                            horas.append(f\"{h:02d}:{m:02d}\")\n",
        "    return horas"
      ]
    },
    {
      "cell_type": "markdown",
      "metadata": {
        "id": "CcPOBpEU3Bjp"
      },
      "source": [
        "Validando:"
      ]
    },
    {
      "cell_type": "code",
      "execution_count": null,
      "metadata": {
        "id": "Ycd6xhxF3Bjp",
        "colab": {
          "base_uri": "https://localhost:8080/"
        },
        "outputId": "56255a06-2533-427c-e7c6-a6c7520ce6ca"
      },
      "outputs": [
        {
          "output_type": "stream",
          "name": "stdout",
          "text": [
            "['11:11', '11:12', '11:13', '11:17', '11:21', '11:22', '11:23', '11:27', '11:31', '11:32', '11:33', '11:37', '12:11', '12:12', '12:13', '12:17', '12:21', '12:22', '12:23', '12:27', '12:31', '12:32', '12:33', '12:37', '13:11', '13:12', '13:13', '13:17', '13:21', '13:22', '13:23', '13:27', '13:31', '13:32', '13:33', '13:37', '17:11', '17:12', '17:13', '17:17', '17:21', '17:22', '17:23', '17:27', '17:31', '17:32', '17:33', '17:37', '21:11', '21:12', '21:13', '21:17', '21:21', '21:22', '21:23', '21:27', '21:31', '21:32', '21:33', '21:37', '22:11', '22:12', '22:13', '22:17', '22:21', '22:22', '22:23', '22:27', '22:31', '22:32', '22:33', '22:37', '23:11', '23:12', '23:13', '23:17', '23:21', '23:22', '23:23', '23:27', '23:31', '23:32', '23:33', '23:37']\n"
          ]
        }
      ],
      "source": [
        "print(horas_validas([1,2,3,7]))"
      ]
    },
    {
      "cell_type": "markdown",
      "metadata": {
        "id": "H0dYHjoL3Bjp"
      },
      "source": [
        "Escribe una función, lo más compacta posible, que escoja entre los 3 patrones a continuación, e imprima en pantalla\n",
        "el deseado, pero de dimensión $n$ ($n \\ge 4$), toma en cuanta que para algunos valores de $n$ habrá\n",
        "algún(os) patrones que no se puedan hacer.\n",
        "\n",
        "```\n",
        "          *             ++++           oooooooo\n",
        "          **            ++++           ooo  ooo\n",
        "          ***           ++++           oo    oo\n",
        "          ****          ++++           o      o\n",
        "          *****             ++++       o      o\n",
        "          ******            ++++       oo    oo\n",
        "          *******           ++++       ooo  ooo\n",
        "          ********          ++++       oooooooo\n",
        "\n",
        "```"
      ]
    },
    {
      "cell_type": "code",
      "source": [
        "def imprimir_patron(patron, n):\n",
        "    if n < 4:\n",
        "        print(\"El tamaño mínimo es 4.\") #para que pueda realizar los patrones\n",
        "        return\n",
        "\n",
        "    if patron == 1:\n",
        "        for i in range(1, n+1):\n",
        "            print('*' * i)\n",
        "    elif patron == 2: # válido solo si n es par\n",
        "        if n % 2 != 0:\n",
        "            print(\"Para este patrón, n debe ser par.\")\n",
        "            return\n",
        "        m = n // 2\n",
        "        for _ in range(m):\n",
        "            print('+' * m + ' ' * m) #Realiza el dibujo centrado a la izq.\n",
        "        for _ in range(m):\n",
        "            print(' ' * m + '+' * m) #Realiza el dibujo centrado a la der.\n",
        "    elif patron == 3: # para este patrón me apoye de chatgpt\n",
        "        if n % 2 != 0: # n debe ser par para poder realizar el patrón\n",
        "            print(\"Para este patrón, n debe ser par.\")\n",
        "            return\n",
        "        m = n // 2\n",
        "        print('o' * n) # Para la primera fila\n",
        "        for i in range(m-1):\n",
        "            print('o' * (m - i - 1) + ' ' * (2 * (i + 1)) + 'o' * (m - i - 1))\n",
        "        print('o' + ' ' * (n - 2) + 'o') #fila de enmedio\n",
        "        for i in range(m - 2):\n",
        "            print('o' * (i + 2) + ' ' * (n - 2 * (i + 2)) + 'o' * (i + 2))\n",
        "        print('o' * n) #ultima fila\n",
        "    else:\n",
        "        print(\"Patrón no reconocido. Usa 1, 2 o 3.\")"
      ],
      "metadata": {
        "id": "4LAsEc-vR6fi"
      },
      "execution_count": 277,
      "outputs": []
    },
    {
      "cell_type": "code",
      "execution_count": 275,
      "metadata": {
        "id": "wS7HMq4u3Bjp",
        "colab": {
          "base_uri": "https://localhost:8080/"
        },
        "outputId": "239acb5f-69c4-4658-9dae-e8c410b61e7d"
      },
      "outputs": [
        {
          "output_type": "stream",
          "name": "stdout",
          "text": [
            "oooooooooo\n",
            "oooo  oooo\n",
            "ooo    ooo\n",
            "oo      oo\n",
            "o        o\n",
            "o        o\n",
            "oo      oo\n",
            "ooo    ooo\n",
            "oooo  oooo\n",
            "oooooooooo\n"
          ]
        }
      ],
      "source": [
        "#Realiza pruebas aquí\n",
        "imprimir_patron(3, 10)  # La primera entrada es el patrón elegido, y la segunda es n"
      ]
    },
    {
      "cell_type": "code",
      "source": [
        "imprimir_patron(1, 5)"
      ],
      "metadata": {
        "colab": {
          "base_uri": "https://localhost:8080/"
        },
        "id": "kixzeHDebNHt",
        "outputId": "fa016178-b888-4635-8c68-062b3de3afef"
      },
      "execution_count": 278,
      "outputs": [
        {
          "output_type": "stream",
          "name": "stdout",
          "text": [
            "*\n",
            "**\n",
            "***\n",
            "****\n",
            "*****\n"
          ]
        }
      ]
    },
    {
      "cell_type": "code",
      "source": [
        "imprimir_patron(2, 5)"
      ],
      "metadata": {
        "colab": {
          "base_uri": "https://localhost:8080/"
        },
        "id": "VQVK56itbfl5",
        "outputId": "e851be5f-86b8-4684-f82f-e84fb1bc7f03"
      },
      "execution_count": 279,
      "outputs": [
        {
          "output_type": "stream",
          "name": "stdout",
          "text": [
            "Para este patrón, n debe ser par.\n"
          ]
        }
      ]
    },
    {
      "cell_type": "markdown",
      "metadata": {
        "id": "gkH5O_sj3Bjp"
      },
      "source": [
        "### Clases y objetos\n",
        "\n",
        "Diseña una clase Matriz con las siguientes características:\n",
        "\n",
        "1. Como inicialización de un objeto es necesario conocer $n$, $m$ y tipo. En caso de no proporcionar $m$ la matriz se asume cuadrada de $n \\times n$. En caso de no proporcionar $n$ la matriz tendrá una dimensión de $1 \\times 1$.\n",
        "2. De no especificarse todos los elementos se inicializan a 0, a menos que exista un tipo especial ( `unos` o `diag` por el momento).\n",
        "3. Implementa con sobrecarga la suma de matrices, la multiplicación de matrices y la multiplicación por un escalar.\n",
        "4. Implementa como métodos eliminar columna y eliminar fila.   \n",
        "5. Programa la representación visual de la matriz.\n",
        "6. Ten en cuenta tambien el manejo de errores.\n",
        "\n",
        "\n",
        "Ejemplo de uso:\n",
        "\n",
        "```\n",
        ">>> A = Matriz(n=3, m=4)\n",
        "\n",
        ">>> print(A)\n",
        "0 0 0 0\n",
        "0 0 0 0\n",
        "0 0 0 0\n",
        "\n",
        ">>> A = A.quitafila(2)\n",
        "\n",
        ">>> print(A)\n",
        "0 0 0 0\n",
        "0 0 0 0\n",
        "\n",
        ">>> B = Matriz(4,4,'diag')\n",
        "\n",
        ">>> print(B)\n",
        "1 0 0 0\n",
        "0 1 0 0\n",
        "0 0 1 0\n",
        "0 0 0 1\n",
        "\n",
        ">>> C = Matriz(4,1,'unos')\n",
        "\n",
        ">>> print(C)\n",
        "1\n",
        "1\n",
        "1\n",
        "1\n",
        "\n",
        ">>> D = 3 * B * C\n",
        "\n",
        ">>> print(D)\n",
        "3\n",
        "3\n",
        "3\n",
        "3\n",
        "\n",
        ">>> E = 3 * B + C\n",
        "error \"No seas menso, si no son de la misma dimensión las matrices no se pueden sumar\"\n",
        "```"
      ]
    },
    {
      "cell_type": "code",
      "source": [
        "# Desarrolla aqui la clase\n",
        "class Matriz:\n",
        "  def __init__(self, tipo=None, n=1, m=None):\n",
        "      if tipo not in [None, 'unos', 'diag']:\n",
        "          raise ValueError(\"El tipo de matriz no es válido.\")\n",
        "      if n < 1 or (m is not None and m < 1):\n",
        "          raise ValueError(\"Las dimensiones de la matriz deben ser positivas.\")\n",
        "\n",
        "      self.n = n #renglones\n",
        "      self.m = m if m is not None else n #columnas\n",
        "      self.tipo = tipo #si es de unos o ceros\n",
        "      if tipo == 'unos':\n",
        "          self.matriz = [[1]*self.m for _ in range(self.n)]\n",
        "      elif tipo == 'diag':\n",
        "          self.matriz = [[1 if i == j else 0 for j in range(self.m)] for i in range(self.n)]\n",
        "      else:\n",
        "          self.matriz = [[0]*self.m for _ in range(self.n)]\n",
        "\n",
        "  def __str__(self):\n",
        "      return '\\n'.join([' '.join(map(str, fila)) for fila in self.matriz])\n",
        "\n",
        "  def add(self, B):\n",
        "      if self.n != B.n or self.m != B.m:\n",
        "          raise ValueError(\"Las matrices deben tener la misma dimensión.\")\n",
        "      suma = Matriz(None, self.n, self.m)\n",
        "      suma.matriz = [[self.matriz[i][j] + B.matriz[i][j] for j in range(self.m)] for i in range(self.n)]\n",
        "      return suma\n",
        "\n",
        "  def mult(self, B):\n",
        "      if self.m != B.n:\n",
        "          raise ValueError('Las matrices no se pueden multiplicar')\n",
        "      result = Matriz(None, self.n, B.m)\n",
        "      sum = __builtins__.sum\n",
        "      result.matriz = [[sum(self.matriz[i][k] * B.matriz[k][j] for k in range(self.m)) for j in range(B.m)] for i in range(self.n)]\n",
        "      return result\n",
        "\n",
        "  def multesc(self, a):\n",
        "      mult = Matriz(None, self.n, self.m)\n",
        "      mult.matriz = [[self.matriz[i][j] * a for j in range(self.m)] for i in range(self.n)]\n",
        "      return mult\n",
        "\n",
        "  def elimina(self, cof, indice):\n",
        "      if cof == 'columna':\n",
        "          if indice < 0 or indice >= self.m:\n",
        "              raise ValueError(\"La columna especificada está fuera de los límites de la matriz.\")\n",
        "          for i in range(self.n):\n",
        "              del self.matriz[i][indice]\n",
        "          self.m -= 1\n",
        "      elif cof == 'fila':\n",
        "          if indice < 0 or indice >= self.n:\n",
        "              raise ValueError(\"La fila especificada está fuera de los límites de la matriz.\")\n",
        "          del self.matriz[indice]\n",
        "          self.n -= 1\n",
        "      else:\n",
        "          raise IndexError(\"Índice de fila fuera de rango\")\n",
        "      return self"
      ],
      "metadata": {
        "id": "H5svnIS_IJrh"
      },
      "execution_count": 271,
      "outputs": []
    },
    {
      "cell_type": "code",
      "source": [
        "# Check if 'sum' has been overwritten\n",
        "print(sum)\n",
        "\n",
        "# If it prints 'None', reset it to the built-in function\n",
        "sum = __builtins__.sum\n",
        "\n",
        "# Now try your multiplication again\n",
        "A = Matriz('unos',3,3)\n",
        "B = Matriz('diag',3,3)\n",
        "c = A.mult(B)\n",
        "print(c)"
      ],
      "metadata": {
        "colab": {
          "base_uri": "https://localhost:8080/"
        },
        "id": "B28k60KNaE3s",
        "outputId": "ce0b2be0-fdd2-4ecb-b94e-e1392a4f58d0"
      },
      "execution_count": 270,
      "outputs": [
        {
          "output_type": "stream",
          "name": "stdout",
          "text": [
            "None\n",
            "1 1 1\n",
            "1 1 1\n",
            "1 1 1\n"
          ]
        }
      ]
    },
    {
      "cell_type": "code",
      "source": [
        "# Realiza las pruebas a la clase aquí\n",
        "A = Matriz(None, n=3, m=4)\n",
        "print(f'A =\\n{A}')\n",
        "\n",
        "AM = A.elimina('fila',2)\n",
        "print(f'A =\\n{AM}')\n",
        "\n",
        "B = Matriz('diag', 4,4)\n",
        "print(f'B =\\n{B}')\n",
        "\n",
        "C = Matriz('unos',4,1)\n",
        "print(f'C =\\n{C}')\n",
        "\n",
        "D = (B.multesc(3)).mult(C)\n",
        "print(f'D =\\n{D}')\n",
        "\n",
        "E = (B.multesc(3)).add(C)\n",
        "print(f'E =\\n{E}')"
      ],
      "metadata": {
        "colab": {
          "base_uri": "https://localhost:8080/",
          "height": 727
        },
        "id": "5X8USPX9VHwq",
        "outputId": "028d84d9-4e91-4f5f-ad32-64c2ff07e55a"
      },
      "execution_count": 272,
      "outputs": [
        {
          "output_type": "stream",
          "name": "stdout",
          "text": [
            "A =\n",
            "0 0 0 0\n",
            "0 0 0 0\n",
            "0 0 0 0\n",
            "A =\n",
            "0 0 0 0\n",
            "0 0 0 0\n",
            "B =\n",
            "1 0 0 0\n",
            "0 1 0 0\n",
            "0 0 1 0\n",
            "0 0 0 1\n",
            "C =\n",
            "1\n",
            "1\n",
            "1\n",
            "1\n",
            "D =\n",
            "3\n",
            "3\n",
            "3\n",
            "3\n"
          ]
        },
        {
          "output_type": "error",
          "ename": "ValueError",
          "evalue": "Las matrices deben tener la misma dimensión.",
          "traceback": [
            "\u001b[0;31m---------------------------------------------------------------------------\u001b[0m",
            "\u001b[0;31mValueError\u001b[0m                                Traceback (most recent call last)",
            "\u001b[0;32m<ipython-input-272-30fadb72f312>\u001b[0m in \u001b[0;36m<cell line: 17>\u001b[0;34m()\u001b[0m\n\u001b[1;32m     15\u001b[0m \u001b[0mprint\u001b[0m\u001b[0;34m(\u001b[0m\u001b[0;34mf'D =\\n{D}'\u001b[0m\u001b[0;34m)\u001b[0m\u001b[0;34m\u001b[0m\u001b[0;34m\u001b[0m\u001b[0m\n\u001b[1;32m     16\u001b[0m \u001b[0;34m\u001b[0m\u001b[0m\n\u001b[0;32m---> 17\u001b[0;31m \u001b[0mE\u001b[0m \u001b[0;34m=\u001b[0m \u001b[0;34m(\u001b[0m\u001b[0mB\u001b[0m\u001b[0;34m.\u001b[0m\u001b[0mmultesc\u001b[0m\u001b[0;34m(\u001b[0m\u001b[0;36m3\u001b[0m\u001b[0;34m)\u001b[0m\u001b[0;34m)\u001b[0m\u001b[0;34m.\u001b[0m\u001b[0madd\u001b[0m\u001b[0;34m(\u001b[0m\u001b[0mC\u001b[0m\u001b[0;34m)\u001b[0m\u001b[0;34m\u001b[0m\u001b[0;34m\u001b[0m\u001b[0m\n\u001b[0m\u001b[1;32m     18\u001b[0m \u001b[0mprint\u001b[0m\u001b[0;34m(\u001b[0m\u001b[0;34mf'E =\\n{E}'\u001b[0m\u001b[0;34m)\u001b[0m\u001b[0;34m\u001b[0m\u001b[0;34m\u001b[0m\u001b[0m\n",
            "\u001b[0;32m<ipython-input-271-84a03645e1d9>\u001b[0m in \u001b[0;36madd\u001b[0;34m(self, B)\u001b[0m\n\u001b[1;32m     22\u001b[0m   \u001b[0;32mdef\u001b[0m \u001b[0madd\u001b[0m\u001b[0;34m(\u001b[0m\u001b[0mself\u001b[0m\u001b[0;34m,\u001b[0m \u001b[0mB\u001b[0m\u001b[0;34m)\u001b[0m\u001b[0;34m:\u001b[0m\u001b[0;34m\u001b[0m\u001b[0;34m\u001b[0m\u001b[0m\n\u001b[1;32m     23\u001b[0m       \u001b[0;32mif\u001b[0m \u001b[0mself\u001b[0m\u001b[0;34m.\u001b[0m\u001b[0mn\u001b[0m \u001b[0;34m!=\u001b[0m \u001b[0mB\u001b[0m\u001b[0;34m.\u001b[0m\u001b[0mn\u001b[0m \u001b[0;32mor\u001b[0m \u001b[0mself\u001b[0m\u001b[0;34m.\u001b[0m\u001b[0mm\u001b[0m \u001b[0;34m!=\u001b[0m \u001b[0mB\u001b[0m\u001b[0;34m.\u001b[0m\u001b[0mm\u001b[0m\u001b[0;34m:\u001b[0m\u001b[0;34m\u001b[0m\u001b[0;34m\u001b[0m\u001b[0m\n\u001b[0;32m---> 24\u001b[0;31m           \u001b[0;32mraise\u001b[0m \u001b[0mValueError\u001b[0m\u001b[0;34m(\u001b[0m\u001b[0;34m\"Las matrices deben tener la misma dimensión.\"\u001b[0m\u001b[0;34m)\u001b[0m\u001b[0;34m\u001b[0m\u001b[0;34m\u001b[0m\u001b[0m\n\u001b[0m\u001b[1;32m     25\u001b[0m       \u001b[0msuma\u001b[0m \u001b[0;34m=\u001b[0m \u001b[0mMatriz\u001b[0m\u001b[0;34m(\u001b[0m\u001b[0;32mNone\u001b[0m\u001b[0;34m,\u001b[0m \u001b[0mself\u001b[0m\u001b[0;34m.\u001b[0m\u001b[0mn\u001b[0m\u001b[0;34m,\u001b[0m \u001b[0mself\u001b[0m\u001b[0;34m.\u001b[0m\u001b[0mm\u001b[0m\u001b[0;34m)\u001b[0m\u001b[0;34m\u001b[0m\u001b[0;34m\u001b[0m\u001b[0m\n\u001b[1;32m     26\u001b[0m       \u001b[0msuma\u001b[0m\u001b[0;34m.\u001b[0m\u001b[0mmatriz\u001b[0m \u001b[0;34m=\u001b[0m \u001b[0;34m[\u001b[0m\u001b[0;34m[\u001b[0m\u001b[0mself\u001b[0m\u001b[0;34m.\u001b[0m\u001b[0mmatriz\u001b[0m\u001b[0;34m[\u001b[0m\u001b[0mi\u001b[0m\u001b[0;34m]\u001b[0m\u001b[0;34m[\u001b[0m\u001b[0mj\u001b[0m\u001b[0;34m]\u001b[0m \u001b[0;34m+\u001b[0m \u001b[0mB\u001b[0m\u001b[0;34m.\u001b[0m\u001b[0mmatriz\u001b[0m\u001b[0;34m[\u001b[0m\u001b[0mi\u001b[0m\u001b[0;34m]\u001b[0m\u001b[0;34m[\u001b[0m\u001b[0mj\u001b[0m\u001b[0;34m]\u001b[0m \u001b[0;32mfor\u001b[0m \u001b[0mj\u001b[0m \u001b[0;32min\u001b[0m \u001b[0mrange\u001b[0m\u001b[0;34m(\u001b[0m\u001b[0mself\u001b[0m\u001b[0;34m.\u001b[0m\u001b[0mm\u001b[0m\u001b[0;34m)\u001b[0m\u001b[0;34m]\u001b[0m \u001b[0;32mfor\u001b[0m \u001b[0mi\u001b[0m \u001b[0;32min\u001b[0m \u001b[0mrange\u001b[0m\u001b[0;34m(\u001b[0m\u001b[0mself\u001b[0m\u001b[0;34m.\u001b[0m\u001b[0mn\u001b[0m\u001b[0;34m)\u001b[0m\u001b[0;34m]\u001b[0m\u001b[0;34m\u001b[0m\u001b[0;34m\u001b[0m\u001b[0m\n",
            "\u001b[0;31mValueError\u001b[0m: Las matrices deben tener la misma dimensión."
          ]
        }
      ]
    }
  ],
  "metadata": {
    "kernelspec": {
      "display_name": "ing-caract",
      "language": "python",
      "name": "python3"
    },
    "language_info": {
      "codemirror_mode": {
        "name": "ipython",
        "version": 3
      },
      "file_extension": ".py",
      "mimetype": "text/x-python",
      "name": "python",
      "nbconvert_exporter": "python",
      "pygments_lexer": "ipython3",
      "version": "3.8.13"
    },
    "orig_nbformat": 4,
    "colab": {
      "provenance": []
    }
  },
  "nbformat": 4,
  "nbformat_minor": 0
}